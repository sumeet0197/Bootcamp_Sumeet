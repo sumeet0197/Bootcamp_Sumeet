{
 "cells": [
  {
   "cell_type": "code",
   "execution_count": 2,
   "id": "030b62e4",
   "metadata": {},
   "outputs": [],
   "source": [
    "import sys, os\n",
    "sys.path.append(os.path.abspath(\"..\"))\n"
   ]
  },
  {
   "cell_type": "code",
   "execution_count": 3,
   "id": "4036b766",
   "metadata": {},
   "outputs": [
    {
     "name": "stdout",
     "output_type": "stream",
     "text": [
      "(90, 4) date        datetime64[ns]\n",
      "category            object\n",
      "value1             float64\n",
      "value2             float64\n",
      "dtype: object\n",
      "Saved CSV: data/raw/sample_storage.csv\n",
      "Saved Parquet: data/processed/sample_storage.parquet\n",
      "Reload CSV: (90, 4)\n",
      "Reload Parquet: (90, 4)\n",
      "Dtype check (date): datetime64[ns]\n",
      "Validation OK: shapes equal? True\n"
     ]
    }
   ],
   "source": [
    "# HW05 — Data Storage (CSV + Parquet)\n",
    "import os\n",
    "import pandas as pd\n",
    "from src.config import load_env\n",
    "paths = load_env()\n",
    "\n",
    "# 1) Load example data (from project root)\n",
    "df = pd.read_csv(\"../data/starter_data.csv\", parse_dates=[\"date\"])\n",
    "print(df.shape, df.dtypes)\n",
    "\n",
    "# 2) Save to CSV and Parquet\n",
    "csv_path = os.path.join(paths.raw, \"sample_storage.csv\")\n",
    "parq_path = os.path.join(paths.processed, \"sample_storage.parquet\")\n",
    "df.to_csv(csv_path, index=False)\n",
    "print(\"Saved CSV:\", csv_path)\n",
    "\n",
    "try:\n",
    "    df.to_parquet(parq_path, index=False)\n",
    "    print(\"Saved Parquet:\", parq_path)\n",
    "except Exception as e:\n",
    "    print(\"Parquet save failed — install pyarrow or fastparquet. Error:\", e)\n",
    "\n",
    "# 3) Reload and validate\n",
    "df_csv = pd.read_csv(csv_path, parse_dates=[\"date\"])\n",
    "print(\"Reload CSV:\", df_csv.shape)\n",
    "try:\n",
    "    df_parq = pd.read_parquet(parq_path)\n",
    "    print(\"Reload Parquet:\", df_parq.shape)\n",
    "    print(\"Dtype check (date):\", df_parq[\"date\"].dtype)\n",
    "except Exception as e:\n",
    "    print(\"Parquet read failed:\", e)\n",
    "\n",
    "# 4) Utility helpers\n",
    "from pathlib import Path\n",
    "\n",
    "def write_df(df: pd.DataFrame, path: str):\n",
    "    Path(os.path.dirname(path)).mkdir(parents=True, exist_ok=True)\n",
    "    if path.lower().endswith(\".csv\"):\n",
    "        df.to_csv(path, index=False)\n",
    "    elif path.lower().endswith(\".parquet\"):\n",
    "        try:\n",
    "            df.to_parquet(path, index=False)\n",
    "        except Exception as e:\n",
    "            raise RuntimeError(\"Missing Parquet engine. Try: pip install pyarrow\") from e\n",
    "    else:\n",
    "        raise ValueError(\"Unknown suffix; use .csv or .parquet\")\n",
    "\n",
    "def read_df(path: str) -> pd.DataFrame:\n",
    "    if path.lower().endswith(\".csv\"):\n",
    "        return pd.read_csv(path)\n",
    "    elif path.lower().endswith(\".parquet\"):\n",
    "        return pd.read_parquet(path)\n",
    "    else:\n",
    "        raise ValueError(\"Unknown suffix; use .csv or .parquet\")\n",
    "\n",
    "# demo\n",
    "write_df(df, os.path.join(paths.raw, \"demo.csv\"))\n",
    "try:\n",
    "    write_df(df, os.path.join(paths.processed, \"demo.parquet\"))\n",
    "except Exception as e:\n",
    "    print(\"Parquet demo skipped:\", e)\n",
    "\n",
    "print(\"Validation OK: shapes equal?\", df.shape == read_df(csv_path).shape)\n"
   ]
  }
 ],
 "metadata": {
  "kernelspec": {
   "display_name": "fe-course",
   "language": "python",
   "name": "python3"
  },
  "language_info": {
   "codemirror_mode": {
    "name": "ipython",
    "version": 3
   },
   "file_extension": ".py",
   "mimetype": "text/x-python",
   "name": "python",
   "nbconvert_exporter": "python",
   "pygments_lexer": "ipython3",
   "version": "3.11.13"
  }
 },
 "nbformat": 4,
 "nbformat_minor": 5
}
