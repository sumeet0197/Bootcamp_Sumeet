{
 "cells": [
  {
   "cell_type": "markdown",
   "id": "86c9c349",
   "metadata": {},
   "source": [
    "# 00 — Environment & Config Check"
   ]
  },
  {
   "cell_type": "code",
   "execution_count": null,
   "id": "a2459899",
   "metadata": {},
   "outputs": [],
   "source": [
    "from dotenv import load_dotenv\n",
    "from src.config import load_env, get_key\n",
    "import numpy as np\n",
    "load_env()\n",
    "load_dotenv(); print('API_KEY present:', get_key('API_KEY') is not None)"
   ]
  },
  {
   "cell_type": "code",
   "execution_count": null,
   "id": "d4628aa0",
   "metadata": {},
   "outputs": [],
   "source": [
    "a = np.array([1,2,3])\n",
    "print('Vectorized add:', a + 5)"
   ]
  }
 ],
 "metadata": {},
 "nbformat": 4,
 "nbformat_minor": 5
}
