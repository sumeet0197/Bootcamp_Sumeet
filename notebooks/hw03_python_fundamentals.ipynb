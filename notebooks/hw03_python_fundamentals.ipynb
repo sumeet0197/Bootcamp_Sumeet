{
 "cells": [
  {
   "cell_type": "markdown",
   "id": "cb1ed2ab",
   "metadata": {},
   "source": [
    "# HW03 — Python Fundamentals"
   ]
  },
  {
   "cell_type": "code",
   "execution_count": null,
   "id": "b74bb2f5",
   "metadata": {},
   "outputs": [],
   "source": [
    "import numpy as np, pandas as pd\n",
    "from src.utils import get_summary_stats\n",
    "from matplotlib import pyplot as plt\n"
   ]
  },
  {
   "cell_type": "markdown",
   "id": "16d78404",
   "metadata": {},
   "source": [
    "# 1) NumPy Operations"
   ]
  },
  {
   "cell_type": "code",
   "execution_count": null,
   "id": "862a3c1f",
   "metadata": {},
   "outputs": [],
   "source": [
    "arr = np.arange(1, 1_000_001)\n",
    "%timeit [x*2 for x in arr]  # loop\n",
    "%timeit arr*2               # vectorized"
   ]
  },
  {
   "cell_type": "markdown",
   "id": "cfbda7b3",
   "metadata": {},
   "source": [
    "# 2) Load dataset"
   ]
  },
  {
   "cell_type": "code",
   "execution_count": null,
   "id": "793e4330",
   "metadata": {},
   "outputs": [],
   "source": [
    "df = pd.read_csv('data/starter_data.csv', parse_dates=['date'])\n",
    "df.info(); df.head()"
   ]
  },
  {
   "cell_type": "markdown",
   "id": "8f3a97d5",
   "metadata": {},
   "source": [
    "# 3) Summary statistics + groupby"
   ]
  },
  {
   "cell_type": "code",
   "execution_count": null,
   "id": "b341a51f",
   "metadata": {},
   "outputs": [],
   "source": [
    "summary, by_cat = get_summary_stats(df, by='category')\n",
    "print(summary)\n",
    "print(by_cat.head())"
   ]
  },
  {
   "cell_type": "markdown",
   "id": "b51c8d49",
   "metadata": {},
   "source": [
    "# 4) Save outputs"
   ]
  },
  {
   "cell_type": "code",
   "execution_count": null,
   "id": "50cb18aa",
   "metadata": {},
   "outputs": [],
   "source": [
    "import os, datetime as dt\n",
    "os.makedirs('data/processed', exist_ok=True)\n",
    "summary.to_csv('data/processed/summary.csv')\n",
    "by_cat.to_csv('data/processed/groupby_category.csv')\n"
   ]
  },
  {
   "cell_type": "markdown",
   "id": "1d1c5b92",
   "metadata": {},
   "source": [
    "# 5) Basic plot"
   ]
  },
  {
   "cell_type": "code",
   "execution_count": null,
   "id": "3b194fe4",
   "metadata": {},
   "outputs": [],
   "source": [
    "df.set_index('date')[['value1']].plot(title='value1 over time'); plt.tight_layout(); plt.savefig('data/processed/value1_plot.png'); plt.show()"
   ]
  }
 ],
 "metadata": {},
 "nbformat": 4,
 "nbformat_minor": 5
}
