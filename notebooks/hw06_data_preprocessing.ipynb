{
 "cells": [
  {
   "cell_type": "code",
   "execution_count": 2,
   "id": "7dd94f66",
   "metadata": {},
   "outputs": [],
   "source": [
    "import sys, os\n",
    "sys.path.append(os.path.abspath(\"..\"))\n",
    "\n",
    "\n"
   ]
  },
  {
   "cell_type": "code",
   "execution_count": 3,
   "id": "06f315a7",
   "metadata": {},
   "outputs": [
    {
     "name": "stdout",
     "output_type": "stream",
     "text": [
      "Using raw dataset: data/raw/api_yfinance_AAPL_20250821-0051.csv\n",
      "Saved cleaned dataset to: data/processed/cleaned_dataset.csv\n",
      "Original shape: (125, 7)\n",
      "Cleaned shape: (125, 7)\n",
      "Nulls before: 9 after: 0\n"
     ]
    }
   ],
   "source": [
    "# HW06 — Data Preprocessing\n",
    "import os, glob\n",
    "import pandas as pd\n",
    "import numpy as np\n",
    "from src.config import load_env\n",
    "from src.cleaning import fill_missing_median, drop_missing, normalize_data\n",
    "\n",
    "paths = load_env()\n",
    "\n",
    "# Pick newest AAPL raw file from Stage 04; else fallback to starter\n",
    "candidates = sorted(glob.glob(os.path.join(paths.raw, \"api_yfinance_AAPL_*.csv\")))\n",
    "raw_path = candidates[-1] if candidates else \"../data/starter_data.csv\"\n",
    "print(\"Using raw dataset:\", raw_path)\n",
    "\n",
    "df = pd.read_csv(raw_path)\n",
    "\n",
    "# Introduce some NA to demonstrate cleaning (safe: only on numeric cols)\n",
    "for c in df.columns[:2]:\n",
    "    if str(df[c].dtype).startswith((\"float\", \"int\")):\n",
    "        df.loc[df.index[::15], c] = np.nan\n",
    "\n",
    "# Apply cleaning functions\n",
    "num_cols = [c for c in df.columns if str(df[c].dtype).startswith((\"float\",\"int\"))]\n",
    "df1 = fill_missing_median(df, num_cols)\n",
    "df2 = drop_missing(df1, thresh=0.9)\n",
    "df3 = normalize_data(df2, num_cols)\n",
    "\n",
    "# Save processed\n",
    "out_path = os.path.join(paths.processed, \"cleaned_dataset.csv\")\n",
    "df3.to_csv(out_path, index=False)\n",
    "print(\"Saved cleaned dataset to:\", out_path)\n",
    "\n",
    "# Compare original vs cleaned\n",
    "print(\"Original shape:\", df.shape)\n",
    "print(\"Cleaned shape:\", df3.shape)\n",
    "print(\"Nulls before:\", df.isna().sum().sum(), \"after:\", df3.isna().sum().sum())\n"
   ]
  }
 ],
 "metadata": {
  "kernelspec": {
   "display_name": "fe-course",
   "language": "python",
   "name": "python3"
  },
  "language_info": {
   "codemirror_mode": {
    "name": "ipython",
    "version": 3
   },
   "file_extension": ".py",
   "mimetype": "text/x-python",
   "name": "python",
   "nbconvert_exporter": "python",
   "pygments_lexer": "ipython3",
   "version": "3.11.13"
  }
 },
 "nbformat": 4,
 "nbformat_minor": 5
}
